{
 "cells": [
  {
   "cell_type": "code",
   "execution_count": 1,
   "metadata": {},
   "outputs": [],
   "source": [
    "import os\n",
    "import numpy as np\n",
    "import pandas as pd\n",
    "from sklearn.cluster import KMeans\n",
    "from sklearn.preprocessing import MinMaxScaler, StandardScaler\n",
    "import matplotlib.pyplot as plt\n",
    "import matplotlib.patches as mpatches\n",
    "import matplotlib.colors as mcolors\n",
    "import matplotlib.lines as mlines\n",
    "from matplotlib.colors import ListedColormap\n",
    "from matplotlib.colors import LinearSegmentedColormap\n",
    "import seaborn as sns\n",
    "from ExKMC.Tree import Tree as ExTree\n",
    "from intercluster import *\n",
    "from intercluster.rules import *\n",
    "from intercluster.pruning import *\n",
    "from intercluster.experiments import load_preprocessed_mnist, load_preprocessed_digits\n",
    "\n",
    "# Helps with KMeans memory leak issues.\n",
    "os.environ[\"OMP_NUM_THREADS\"] = \"1\"\n",
    "\n",
    "%load_ext autoreload\n",
    "%autoreload 2"
   ]
  },
  {
   "cell_type": "markdown",
   "metadata": {},
   "source": [
    "### Load Data"
   ]
  },
  {
   "cell_type": "code",
   "execution_count": 2,
   "metadata": {},
   "outputs": [],
   "source": [
    "# Read and process data:\n",
    "data, data_label_array, feature_labels, scaler = load_preprocessed_digits()\n",
    "\n",
    "# Parameters:\n",
    "n = data.shape[0]\n",
    "d = data.shape[1]\n",
    "k = 10"
   ]
  },
  {
   "cell_type": "markdown",
   "metadata": {},
   "source": [
    "### KMeans"
   ]
  },
  {
   "cell_type": "code",
   "execution_count": 3,
   "metadata": {},
   "outputs": [
    {
     "data": {
      "text/plain": [
       "39.412685306478345"
      ]
     },
     "execution_count": 3,
     "metadata": {},
     "output_type": "execute_result"
    }
   ],
   "source": [
    "np.random.seed(342)\n",
    "kmeans = KMeans(n_clusters=k, n_init=\"auto\", random_state = None).fit(data)\n",
    "kmeans_labels = labels_format(kmeans.labels_)\n",
    "kmeans_assignment = labels_to_assignment(kmeans_labels, n_labels = k)\n",
    "kmeans_cost(data, kmeans.cluster_centers_, kmeans_assignment, average = True, normalize = True)"
   ]
  },
  {
   "cell_type": "code",
   "execution_count": 4,
   "metadata": {},
   "outputs": [
    {
     "data": {
      "text/plain": [
       "0.5811315585800497"
      ]
     },
     "execution_count": 4,
     "metadata": {},
     "output_type": "execute_result"
    }
   ],
   "source": [
    "from sklearn.metrics import adjusted_rand_score\n",
    "\n",
    "adjusted_rand_score(data_label_array, flatten_labels(kmeans_labels))"
   ]
  },
  {
   "cell_type": "markdown",
   "metadata": {},
   "source": [
    "### IMM"
   ]
  },
  {
   "cell_type": "code",
   "execution_count": 5,
   "metadata": {},
   "outputs": [
    {
     "data": {
      "text/plain": [
       "44.63033159051822"
      ]
     },
     "execution_count": 5,
     "metadata": {},
     "output_type": "execute_result"
    }
   ],
   "source": [
    "exkmc_tree = ExkmcTree(\n",
    "    k = k,\n",
    "    kmeans = kmeans,\n",
    "    max_leaf_nodes = k,\n",
    "    imm = True\n",
    ")\n",
    "exkmc_tree.fit(data)\n",
    "exkmc_labels = exkmc_tree.predict(data, leaf_labels = False)\n",
    "exkmc_assignment = labels_to_assignment(exkmc_labels, n_labels = k)\n",
    "exkmc_centers = update_centers(data, kmeans.cluster_centers_, exkmc_assignment)\n",
    "imm_weighted_depth = int(exkmc_tree.get_weighted_average_depth(data))\n",
    "kmeans_cost(data, exkmc_centers, exkmc_assignment, average = True, normalize = True)"
   ]
  },
  {
   "cell_type": "code",
   "execution_count": 6,
   "metadata": {},
   "outputs": [
    {
     "data": {
      "text/plain": [
       "9"
      ]
     },
     "execution_count": 6,
     "metadata": {},
     "output_type": "execute_result"
    }
   ],
   "source": [
    "exkmc_tree.depth"
   ]
  },
  {
   "cell_type": "markdown",
   "metadata": {},
   "source": [
    "### Decision Forest"
   ]
  },
  {
   "cell_type": "code",
   "execution_count": 6,
   "metadata": {},
   "outputs": [],
   "source": [
    "np.random.seed(342)"
   ]
  },
  {
   "cell_type": "code",
   "execution_count": 7,
   "metadata": {},
   "outputs": [],
   "source": [
    "# Module Parameters:\n",
    "n_clusters = k\n",
    "n_rules = k\n",
    "frac_cover = 0.9\n",
    "n_trees = 1000\n",
    "n_sets = 1000\n",
    "data_labels = kmeans_labels\n",
    "centers = kmeans.cluster_centers_\n",
    "\n",
    "\n",
    "# Depth 2 Forest:\n",
    "forest_tree_params_depth_2 = {\n",
    "    'max_depth' : 2\n",
    "}\n",
    "\n",
    "forest_params_depth_2 = {\n",
    "    'tree_model' : SklearnTree,\n",
    "    'tree_params' : forest_tree_params_depth_2,\n",
    "    'num_trees' : n_trees,\n",
    "    'max_features' : d,\n",
    "    'max_labels' : 1,\n",
    "    'max_depths' : [2],\n",
    "    'feature_pairings' : [list(range(d))],\n",
    "    'train_size' : 0.75\n",
    "}\n",
    "\n",
    "# Depth IMM Forest:\n",
    "forest_tree_params_depth_imm = {\n",
    "    'max_depth' : imm_weighted_depth\n",
    "}\n",
    "\n",
    "forest_params_depth_imm = {\n",
    "    'tree_model' : SklearnTree,\n",
    "    'tree_params' : forest_tree_params_depth_imm,\n",
    "    'num_trees' : n_trees,\n",
    "    'max_features' : d,\n",
    "    'max_labels' : 1,\n",
    "    'max_depths' : list(range(1, imm_weighted_depth + 1)),\n",
    "    'feature_pairings' : [list(range(d))],\n",
    "    'train_size' : 0.75\n",
    "}\n",
    "\n",
    "# Oblique Forest:\n",
    "oblique_forest_tree_params = {\n",
    "    'max_depth' : 2\n",
    "}\n",
    "\n",
    "oblique_forest_params = {\n",
    "    'tree_model' : ObliqueTree,\n",
    "    'tree_params' : oblique_forest_tree_params,\n",
    "    'num_trees' : n_trees,\n",
    "    'max_features' : 2,\n",
    "    'max_labels' : 1,\n",
    "    'max_depths' : [1,2],\n",
    "    'feature_pairings' : [list(range(d))],\n",
    "    'train_size' : 0.75\n",
    "}\n",
    "\n",
    "\n",
    "# SVM Forest:\n",
    "forest_tree_params_svm = {}\n",
    "\n",
    "forest_params_svm = {\n",
    "    'tree_model' : SVMTree,\n",
    "    'tree_params' : forest_tree_params_svm,\n",
    "    'num_trees' : n_trees,\n",
    "    'max_features' : 2,\n",
    "    'max_labels' : 1,\n",
    "    'feature_pairings' : [list(range(d))],\n",
    "    'train_size' : 0.75\n",
    "}\n",
    "\n",
    "\n",
    "# ExKMC Forest:\n",
    "forest_tree_params_exkmc = {\n",
    "    'k' : k,\n",
    "    'kmeans' : kmeans,\n",
    "    'max_leaf_nodes' : 2*k,\n",
    "    'imm' : True\n",
    "}\n",
    "\n",
    "forest_params_exkmc = {\n",
    "    'tree_model' : ExkmcTree,\n",
    "    'tree_params' : forest_tree_params_exkmc,\n",
    "    'num_trees' : 1,\n",
    "    'max_features' : data.shape[1],\n",
    "    'max_labels' : k,\n",
    "    'feature_pairings' : [list(range(d))],\n",
    "    'train_size' : 1\n",
    "}\n",
    "\n",
    "\n",
    "# Voronoi Decision Set:\n",
    "voronoi_params = {\n",
    "    'centers' : kmeans.cluster_centers_,\n",
    "    'num_sets' : n_sets,\n",
    "    'num_conditions' : 2,\n",
    "    'feature_pairings' : [list(range(d))]\n",
    "}"
   ]
  },
  {
   "cell_type": "code",
   "execution_count": 8,
   "metadata": {},
   "outputs": [],
   "source": [
    "forest = DecisionForest(**forest_params_depth_2)\n",
    "forest.fit(data, kmeans_labels)"
   ]
  },
  {
   "cell_type": "code",
   "execution_count": 9,
   "metadata": {},
   "outputs": [],
   "source": [
    "forest_depth_imm = DecisionForest(**forest_params_depth_imm)\n",
    "forest_depth_imm.fit(data, kmeans_labels)"
   ]
  },
  {
   "cell_type": "code",
   "execution_count": 22,
   "metadata": {},
   "outputs": [],
   "source": [
    "# Takes some time to run!\n",
    "oblique_forest = DecisionForest(**oblique_forest_params)\n",
    "oblique_forest.fit(data, kmeans_labels)"
   ]
  },
  {
   "cell_type": "code",
   "execution_count": 21,
   "metadata": {},
   "outputs": [],
   "source": [
    "svm_forest = DecisionForest(**forest_params_svm)\n",
    "svm_forest.fit(data, kmeans_labels)"
   ]
  },
  {
   "cell_type": "code",
   "execution_count": 22,
   "metadata": {},
   "outputs": [],
   "source": [
    "exkmc_forest = DecisionForest(**forest_params_exkmc)\n",
    "exkmc_forest.fit(data, kmeans_labels)"
   ]
  },
  {
   "cell_type": "code",
   "execution_count": 33,
   "metadata": {},
   "outputs": [],
   "source": [
    "voronoi_set = VoronoiSet(**voronoi_params)\n",
    "voronoi_set.fit(data, kmeans_labels)"
   ]
  },
  {
   "cell_type": "markdown",
   "metadata": {},
   "source": [
    "### Pruning"
   ]
  },
  {
   "cell_type": "code",
   "execution_count": 10,
   "metadata": {},
   "outputs": [],
   "source": [
    "model = forest\n",
    "search_range = np.linspace(0,10,101)\n",
    "\n",
    "data_to_rules_assignment = model.get_data_to_rules_assignment(data)\n",
    "prune_objective = KmeansObjective(\n",
    "    X = data,\n",
    "    centers = centers,\n",
    "    average = True,\n",
    "    normalize = True\n",
    ")\n",
    "selected_rules, objective_vals, coverage_vals = prune_with_grid_search(\n",
    "    n_rules = n_rules,\n",
    "    frac_cover = 0, # Just using 0 required coverage for now to be able to see the full picture.\n",
    "    n_clusters = n_clusters,\n",
    "    data_labels = data_labels,\n",
    "    rule_labels = model.decision_set_labels,\n",
    "    data_to_rules_assignment = data_to_rules_assignment,\n",
    "    objective = prune_objective,\n",
    "    lambda_search_range = search_range,\n",
    "    cpu_count = 4,\n",
    "    return_full = True\n",
    ")"
   ]
  },
  {
   "cell_type": "code",
   "execution_count": 11,
   "metadata": {},
   "outputs": [
    {
     "data": {
      "text/plain": [
       "Text(0, 0.5, 'Cost')"
      ]
     },
     "execution_count": 11,
     "metadata": {},
     "output_type": "execute_result"
    },
    {
     "data": {
      "image/png": "[encoded data removed]",
      "text/plain": [
       "<Figure size 640x480 with 1 Axes>"
      ]
     },
     "metadata": {},
     "output_type": "display_data"
    }
   ],
   "source": [
    "plt.plot(search_range, objective_vals, linewidth = 5)\n",
    "plt.xlabel(r\"$\\lambda$\")\n",
    "plt.ylabel(\"Cost\")"
   ]
  },
  {
   "cell_type": "code",
   "execution_count": 12,
   "metadata": {},
   "outputs": [
    {
     "data": {
      "text/plain": [
       "Text(0, 0.5, 'Coverage')"
      ]
     },
     "execution_count": 12,
     "metadata": {},
     "output_type": "execute_result"
    },
    {
     "data": {
      "image/png": "[encoded data removed]",
      "text/plain": [
       "<Figure size 640x480 with 1 Axes>"
      ]
     },
     "metadata": {},
     "output_type": "display_data"
    }
   ],
   "source": [
    "plt.plot(search_range, coverage_vals, linewidth = 5)\n",
    "plt.xlabel(r\"$\\lambda$\")\n",
    "plt.ylabel(\"Coverage\")"
   ]
  },
  {
   "cell_type": "code",
   "execution_count": 26,
   "metadata": {},
   "outputs": [],
   "source": [
    "prune_objective = KmeansObjective(\n",
    "    X = data,\n",
    "    centers = centers,\n",
    "    average = True,\n",
    "    normalize = True\n",
    ")\n",
    "\n",
    "prune_params = {\n",
    "    'n_rules' : n_rules,\n",
    "    'frac_cover' : 0.5,\n",
    "    'n_clusters' : n_clusters,\n",
    "    'X' : data,\n",
    "    'y' : data_labels,\n",
    "    'objective' : prune_objective,\n",
    "    'lambda_search_range' : np.linspace(0,10,101),\n",
    "    'cpu_count' : 1\n",
    "}"
   ]
  },
  {
   "cell_type": "code",
   "execution_count": 27,
   "metadata": {},
   "outputs": [],
   "source": [
    "forest.prune(**prune_params)\n",
    "forest_prune_predictions = forest.pruned_predict(data, rule_labels = False)"
   ]
  },
  {
   "cell_type": "code",
   "execution_count": 28,
   "metadata": {},
   "outputs": [],
   "source": [
    "forest_depth_5.prune(**prune_params)\n",
    "forest_depth_5_prune_predictions = forest_depth_5.pruned_predict(data, rule_labels = False)"
   ]
  },
  {
   "cell_type": "code",
   "execution_count": null,
   "metadata": {},
   "outputs": [],
   "source": [
    "oblique_forest.prune(**prune_params)\n",
    "oblique_forest_prune_predictions = oblique_forest.pruned_predict(data, rule_labels = False)"
   ]
  }
 ],
 "metadata": {
  "kernelspec": {
   "display_name": "intercluster-sHZsOx4e-py3.9",
   "language": "python",
   "name": "python3"
  },
  "language_info": {
   "codemirror_mode": {
    "name": "ipython",
    "version": 3
   },
   "file_extension": ".py",
   "mimetype": "text/x-python",
   "name": "python",
   "nbconvert_exporter": "python",
   "pygments_lexer": "ipython3",
   "version": "3.9.21"
  }
 },
 "nbformat": 4,
 "nbformat_minor": 2
}
