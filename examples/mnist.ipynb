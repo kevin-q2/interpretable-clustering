{
 "cells": [
  {
   "cell_type": "code",
   "execution_count": 1,
   "metadata": {},
   "outputs": [],
   "source": [
    "import os\n",
    "import numpy as np\n",
    "import pandas as pd\n",
    "from sklearn.cluster import KMeans\n",
    "from sklearn.preprocessing import MinMaxScaler, StandardScaler\n",
    "import matplotlib.pyplot as plt\n",
    "import matplotlib.patches as mpatches\n",
    "import matplotlib.colors as mcolors\n",
    "import matplotlib.lines as mlines\n",
    "from matplotlib.colors import ListedColormap\n",
    "from matplotlib.colors import LinearSegmentedColormap\n",
    "import seaborn as sns\n",
    "from ExKMC.Tree import Tree as ExTree\n",
    "from intercluster import *\n",
    "from intercluster.rules import *\n",
    "from intercluster.pruning import *\n",
    "from intercluster.experiments import load_preprocessed_mnist, load_preprocessed_digits\n",
    "\n",
    "# Helps with KMeans memory leak issues.\n",
    "os.environ[\"OMP_NUM_THREADS\"] = \"1\"\n",
    "\n",
    "%load_ext autoreload\n",
    "%autoreload 2"
   ]
  },
  {
   "cell_type": "markdown",
   "metadata": {},
   "source": [
    "### Load Data"
   ]
  },
  {
   "cell_type": "code",
   "execution_count": 2,
   "metadata": {},
   "outputs": [],
   "source": [
    "# Read and process data:\n",
    "data, data_label_array, feature_labels, scaler = load_preprocessed_digits()\n",
    "\n",
    "# Parameters:\n",
    "n = data.shape[0]\n",
    "d = data.shape[1]\n",
    "k = 10"
   ]
  },
  {
   "cell_type": "markdown",
   "metadata": {},
   "source": [
    "### KMeans"
   ]
  },
  {
   "cell_type": "code",
   "execution_count": 3,
   "metadata": {},
   "outputs": [
    {
     "data": {
      "text/plain": [
       "39.412685306478345"
      ]
     },
     "execution_count": 3,
     "metadata": {},
     "output_type": "execute_result"
    }
   ],
   "source": [
    "np.random.seed(342)\n",
    "kmeans = KMeans(n_clusters=k, n_init=\"auto\", random_state = None).fit(data)\n",
    "kmeans_labels = labels_format(kmeans.labels_)\n",
    "kmeans_assignment = labels_to_assignment(kmeans_labels, n_labels = k)\n",
    "kmeans_cost(data, kmeans.cluster_centers_, kmeans_assignment, average = True, normalize = True)"
   ]
  },
  {
   "cell_type": "code",
   "execution_count": 4,
   "metadata": {},
   "outputs": [
    {
     "data": {
      "text/plain": [
       "0.5811315585800497"
      ]
     },
     "execution_count": 4,
     "metadata": {},
     "output_type": "execute_result"
    }
   ],
   "source": [
    "from sklearn.metrics import adjusted_rand_score\n",
    "\n",
    "adjusted_rand_score(data_label_array, flatten_labels(kmeans_labels))"
   ]
  },
  {
   "cell_type": "markdown",
   "metadata": {},
   "source": [
    "### IMM"
   ]
  },
  {
   "cell_type": "code",
   "execution_count": 10,
   "metadata": {},
   "outputs": [
    {
     "data": {
      "text/plain": [
       "44.63033159051822"
      ]
     },
     "execution_count": 10,
     "metadata": {},
     "output_type": "execute_result"
    }
   ],
   "source": [
    "exkmc_tree = ExkmcTree(\n",
    "    k = k,\n",
    "    kmeans = kmeans,\n",
    "    max_leaf_nodes = k,\n",
    "    imm = True\n",
    ")\n",
    "exkmc_tree.fit(data)\n",
    "exkmc_labels = exkmc_tree.predict(data, leaf_labels = False)\n",
    "exkmc_assignment = labels_to_assignment(exkmc_labels, n_labels = k)\n",
    "exkmc_centers = update_centers(data, kmeans.cluster_centers_, exkmc_assignment)\n",
    "imm_weighted_depth = int(exkmc_tree.get_weighted_average_depth(data))\n",
    "kmeans_cost(data, exkmc_centers, exkmc_assignment, average = True, normalize = True)"
   ]
  },
  {
   "cell_type": "code",
   "execution_count": 6,
   "metadata": {},
   "outputs": [
    {
     "data": {
      "text/plain": [
       "9"
      ]
     },
     "execution_count": 6,
     "metadata": {},
     "output_type": "execute_result"
    }
   ],
   "source": [
    "exkmc_tree.depth"
   ]
  },
  {
   "cell_type": "markdown",
   "metadata": {},
   "source": [
    "### Decision Forest"
   ]
  },
  {
   "cell_type": "code",
   "execution_count": 7,
   "metadata": {},
   "outputs": [],
   "source": [
    "np.random.seed(342)"
   ]
  },
  {
   "cell_type": "code",
   "execution_count": null,
   "metadata": {},
   "outputs": [],
   "source": [
    "# Module Parameters:\n",
    "n_clusters = k\n",
    "n_rules = k\n",
    "frac_cover = 0.9\n",
    "n_trees = 1000\n",
    "n_sets = 1000\n",
    "data_labels = kmeans_labels\n",
    "centers = kmeans.cluster_centers_\n",
    "\n",
    "\n",
    "# Depth 2 Forest:\n",
    "forest_tree_params_depth_2 = {\n",
    "    'max_depth' : 2\n",
    "}\n",
    "\n",
    "forest_params_depth_2 = {\n",
    "    'tree_model' : SklearnTree,\n",
    "    'tree_params' : forest_tree_params_depth_2,\n",
    "    'num_trees' : n_trees,\n",
    "    'max_features' : d,\n",
    "    'max_labels' : 1,\n",
    "    'max_depths' : [2],\n",
    "    'feature_pairings' : [list(range(d))],\n",
    "    'train_size' : 0.75\n",
    "}\n",
    "\n",
    "# Depth IMM Forest:\n",
    "forest_tree_params_depth_imm = {\n",
    "    'max_depth' : imm_weighted_depth\n",
    "}\n",
    "\n",
    "forest_params_depth_imm = {\n",
    "    'tree_model' : SklearnTree,\n",
    "    'tree_params' : forest_tree_params_depth_imm,\n",
    "    'num_trees' : n_trees,\n",
    "    'max_features' : d,\n",
    "    'max_labels' : 1,\n",
    "    'max_depths' : list(range(1, imm_weighted_depth + 1)),\n",
    "    'feature_pairings' : [list(range(d))],\n",
    "    'train_size' : 0.75\n",
    "}\n",
    "\n",
    "# Oblique Forest:\n",
    "oblique_forest_tree_params = {\n",
    "    'max_depth' : 2\n",
    "}\n",
    "\n",
    "oblique_forest_params = {\n",
    "    'tree_model' : ObliqueTree,\n",
    "    'tree_params' : oblique_forest_tree_params,\n",
    "    'num_trees' : n_trees,\n",
    "    'max_features' : 2,\n",
    "    'max_labels' : 1,\n",
    "    'max_depths' : [1,2],\n",
    "    'feature_pairings' : [list(range(d))],\n",
    "    'train_size' : 0.75\n",
    "}\n",
    "\n",
    "\n",
    "# SVM Forest:\n",
    "forest_tree_params_svm = {}\n",
    "\n",
    "forest_params_svm = {\n",
    "    'tree_model' : SVMTree,\n",
    "    'tree_params' : forest_tree_params_svm,\n",
    "    'num_trees' : n_trees,\n",
    "    'max_features' : 2,\n",
    "    'max_labels' : 1,\n",
    "    'feature_pairings' : [list(range(d))],\n",
    "    'train_size' : 0.75\n",
    "}\n",
    "\n",
    "\n",
    "# ExKMC Forest:\n",
    "forest_tree_params_exkmc = {\n",
    "    'k' : k,\n",
    "    'kmeans' : kmeans,\n",
    "    'max_leaf_nodes' : 2*k,\n",
    "    'imm' : True\n",
    "}\n",
    "\n",
    "forest_params_exkmc = {\n",
    "    'tree_model' : ExkmcTree,\n",
    "    'tree_params' : forest_tree_params_exkmc,\n",
    "    'num_trees' : 1,\n",
    "    'max_features' : data.shape[1],\n",
    "    'max_labels' : k,\n",
    "    'feature_pairings' : [list(range(d))],\n",
    "    'train_size' : 1\n",
    "}\n",
    "\n",
    "\n",
    "# Voronoi Decision Set:\n",
    "voronoi_params = {\n",
    "    'centers' : kmeans.cluster_centers_,\n",
    "    'num_sets' : n_sets,\n",
    "    'num_conditions' : 2,\n",
    "    'feature_pairings' : [list(range(d))]\n",
    "}"
   ]
  },
  {
   "cell_type": "code",
   "execution_count": 17,
   "metadata": {},
   "outputs": [],
   "source": [
    "forest = DecisionForest(**forest_params_depth_2)\n",
    "forest.fit(data, kmeans_labels)"
   ]
  },
  {
   "cell_type": "code",
   "execution_count": 21,
   "metadata": {},
   "outputs": [],
   "source": [
    "forest_depth_imm = DecisionForest(**forest_params_depth_imm)\n",
    "forest_depth_imm.fit(data, kmeans_labels)"
   ]
  },
  {
   "cell_type": "code",
   "execution_count": 17,
   "metadata": {},
   "outputs": [
    {
     "ename": "KeyboardInterrupt",
     "evalue": "",
     "output_type": "error",
     "traceback": [
      "\u001b[0;31m---------------------------------------------------------------------------\u001b[0m",
      "\u001b[0;31mKeyboardInterrupt\u001b[0m                         Traceback (most recent call last)",
      "Cell \u001b[0;32mIn[17], line 3\u001b[0m\n\u001b[1;32m      1\u001b[0m \u001b[38;5;66;03m# Takes some time to run!\u001b[39;00m\n\u001b[1;32m      2\u001b[0m oblique_forest \u001b[38;5;241m=\u001b[39m DecisionForest(\u001b[38;5;241m*\u001b[39m\u001b[38;5;241m*\u001b[39moblique_forest_params)\n\u001b[0;32m----> 3\u001b[0m \u001b[43moblique_forest\u001b[49m\u001b[38;5;241;43m.\u001b[39;49m\u001b[43mfit\u001b[49m\u001b[43m(\u001b[49m\u001b[43mdata\u001b[49m\u001b[43m,\u001b[49m\u001b[43m \u001b[49m\u001b[43mkmeans_labels\u001b[49m\u001b[43m)\u001b[49m\n",
      "File \u001b[0;32m~/research/interpretable/intercluster/rules/_decision_set.py:68\u001b[0m, in \u001b[0;36mDecisionSet.fit\u001b[0;34m(self, X, y)\u001b[0m\n\u001b[1;32m     58\u001b[0m \u001b[38;5;28;01mdef\u001b[39;00m\u001b[38;5;250m \u001b[39m\u001b[38;5;21mfit\u001b[39m(\u001b[38;5;28mself\u001b[39m, X : NDArray, y : List[Set[\u001b[38;5;28mint\u001b[39m]] \u001b[38;5;241m=\u001b[39m \u001b[38;5;28;01mNone\u001b[39;00m):\n\u001b[1;32m     59\u001b[0m \u001b[38;5;250m    \u001b[39m\u001b[38;5;124;03m\"\"\"\u001b[39;00m\n\u001b[1;32m     60\u001b[0m \u001b[38;5;124;03m    Public fit function. \u001b[39;00m\n\u001b[1;32m     61\u001b[0m \u001b[38;5;124;03m    Fits a decision set to an input dataset. \u001b[39;00m\n\u001b[0;32m   (...)\u001b[0m\n\u001b[1;32m     66\u001b[0m \u001b[38;5;124;03m        y (List[Set[int]], optional): Target labels. Defaults to None.\u001b[39;00m\n\u001b[1;32m     67\u001b[0m \u001b[38;5;124;03m    \"\"\"\u001b[39;00m\n\u001b[0;32m---> 68\u001b[0m     \u001b[38;5;28mself\u001b[39m\u001b[38;5;241m.\u001b[39mdecision_set, \u001b[38;5;28mself\u001b[39m\u001b[38;5;241m.\u001b[39mdecision_set_labels \u001b[38;5;241m=\u001b[39m \u001b[38;5;28;43mself\u001b[39;49m\u001b[38;5;241;43m.\u001b[39;49m\u001b[43m_fitting\u001b[49m\u001b[43m(\u001b[49m\u001b[43mX\u001b[49m\u001b[43m,\u001b[49m\u001b[43m \u001b[49m\u001b[43my\u001b[49m\u001b[43m)\u001b[49m\n",
      "File \u001b[0;32m~/research/interpretable/intercluster/rules/decision_forest.py:206\u001b[0m, in \u001b[0;36mDecisionForest._fitting\u001b[0;34m(self, X, y)\u001b[0m\n\u001b[1;32m    204\u001b[0m tree \u001b[38;5;241m=\u001b[39m \u001b[38;5;28;01mNone\u001b[39;00m\n\u001b[1;32m    205\u001b[0m \u001b[38;5;28;01mfor\u001b[39;00m _ \u001b[38;5;129;01min\u001b[39;00m \u001b[38;5;28mrange\u001b[39m(\u001b[38;5;28mself\u001b[39m\u001b[38;5;241m.\u001b[39mnum_trees):\n\u001b[0;32m--> 206\u001b[0m     tree \u001b[38;5;241m=\u001b[39m \u001b[38;5;28;43mself\u001b[39;49m\u001b[38;5;241;43m.\u001b[39;49m\u001b[43m_fit_tree\u001b[49m\u001b[43m(\u001b[49m\u001b[43mX\u001b[49m\u001b[43m,\u001b[49m\u001b[43m \u001b[49m\u001b[43my\u001b[49m\u001b[43m)\u001b[49m   \n\u001b[1;32m    207\u001b[0m     new_rules \u001b[38;5;241m=\u001b[39m []\n\u001b[1;32m    208\u001b[0m     new_labels \u001b[38;5;241m=\u001b[39m []\n",
      "File \u001b[0;32m~/research/interpretable/intercluster/rules/decision_forest.py:156\u001b[0m, in \u001b[0;36mDecisionForest._fit_tree\u001b[0;34m(self, X, y)\u001b[0m\n\u001b[1;32m    151\u001b[0m train_data \u001b[38;5;241m=\u001b[39m train_data[:, rand_features]\n\u001b[1;32m    153\u001b[0m tree \u001b[38;5;241m=\u001b[39m \u001b[38;5;28mself\u001b[39m\u001b[38;5;241m.\u001b[39mtree_model(\n\u001b[1;32m    154\u001b[0m         \u001b[38;5;241m*\u001b[39m\u001b[38;5;241m*\u001b[39m\u001b[38;5;28mself\u001b[39m\u001b[38;5;241m.\u001b[39mtree_params\n\u001b[1;32m    155\u001b[0m )\n\u001b[0;32m--> 156\u001b[0m \u001b[43mtree\u001b[49m\u001b[38;5;241;43m.\u001b[39;49m\u001b[43mfit\u001b[49m\u001b[43m(\u001b[49m\u001b[43mtrain_data\u001b[49m\u001b[43m,\u001b[49m\u001b[43m \u001b[49m\u001b[43mtrain_labels\u001b[49m\u001b[43m)\u001b[49m\n\u001b[1;32m    158\u001b[0m \u001b[38;5;66;03m# Translate back to orignal indices:\u001b[39;00m\n\u001b[1;32m    159\u001b[0m node_list \u001b[38;5;241m=\u001b[39m tree\u001b[38;5;241m.\u001b[39mget_nodes()\n",
      "File \u001b[0;32m~/research/interpretable/intercluster/rules/_tree.py:147\u001b[0m, in \u001b[0;36mTree.fit\u001b[0;34m(self, X, y)\u001b[0m\n\u001b[1;32m    143\u001b[0m         \u001b[38;5;28mself\u001b[39m\u001b[38;5;241m.\u001b[39madd_leaf_node(l_node)   \n\u001b[1;32m    146\u001b[0m \u001b[38;5;28;01mwhile\u001b[39;00m \u001b[38;5;28mlen\u001b[39m(\u001b[38;5;28mself\u001b[39m\u001b[38;5;241m.\u001b[39mheap) \u001b[38;5;241m>\u001b[39m \u001b[38;5;241m0\u001b[39m:\n\u001b[0;32m--> 147\u001b[0m     \u001b[38;5;28;43mself\u001b[39;49m\u001b[38;5;241;43m.\u001b[39;49m\u001b[43mgrow\u001b[49m\u001b[43m(\u001b[49m\u001b[43m)\u001b[49m\n",
      "File \u001b[0;32m~/research/interpretable/intercluster/rules/_tree.py:266\u001b[0m, in \u001b[0;36mTree.grow\u001b[0;34m(self)\u001b[0m\n\u001b[1;32m    263\u001b[0m     \u001b[38;5;28;01mpass\u001b[39;00m\n\u001b[1;32m    265\u001b[0m \u001b[38;5;28;01melse\u001b[39;00m:\n\u001b[0;32m--> 266\u001b[0m     \u001b[38;5;28;43mself\u001b[39;49m\u001b[38;5;241;43m.\u001b[39;49m\u001b[43mbranch\u001b[49m\u001b[43m(\u001b[49m\u001b[43mnode\u001b[49m\u001b[43m,\u001b[49m\u001b[43m \u001b[49m\u001b[43mcondition\u001b[49m\u001b[43m)\u001b[49m\n",
      "File \u001b[0;32m~/research/interpretable/intercluster/rules/_tree.py:226\u001b[0m, in \u001b[0;36mTree.branch\u001b[0;34m(self, node, condition)\u001b[0m\n\u001b[1;32m    224\u001b[0m \u001b[38;5;66;03m# And push them into the heap:\u001b[39;00m\n\u001b[1;32m    225\u001b[0m \u001b[38;5;28mself\u001b[39m\u001b[38;5;241m.\u001b[39madd_leaf_node(left_node)\n\u001b[0;32m--> 226\u001b[0m \u001b[38;5;28;43mself\u001b[39;49m\u001b[38;5;241;43m.\u001b[39;49m\u001b[43madd_leaf_node\u001b[49m\u001b[43m(\u001b[49m\u001b[43mright_node\u001b[49m\u001b[43m)\u001b[49m\n\u001b[1;32m    228\u001b[0m \u001b[38;5;66;03m# Transform the splitted node from a leaf node to an internal tree node:\u001b[39;00m\n\u001b[1;32m    229\u001b[0m node\u001b[38;5;241m.\u001b[39mtree_node(\n\u001b[1;32m    230\u001b[0m     left_child\u001b[38;5;241m=\u001b[39mleft_node,\n\u001b[1;32m    231\u001b[0m     right_child\u001b[38;5;241m=\u001b[39mright_node,\n\u001b[0;32m   (...)\u001b[0m\n\u001b[1;32m    235\u001b[0m     depth\u001b[38;5;241m=\u001b[39mnode\u001b[38;5;241m.\u001b[39mdepth\n\u001b[1;32m    236\u001b[0m )\n",
      "File \u001b[0;32m~/research/interpretable/intercluster/rules/_tree.py:160\u001b[0m, in \u001b[0;36mTree.add_leaf_node\u001b[0;34m(self, node)\u001b[0m\n\u001b[1;32m    150\u001b[0m \u001b[38;5;28;01mdef\u001b[39;00m\u001b[38;5;250m \u001b[39m\u001b[38;5;21madd_leaf_node\u001b[39m(\n\u001b[1;32m    151\u001b[0m     \u001b[38;5;28mself\u001b[39m,\n\u001b[1;32m    152\u001b[0m     node : Node\n\u001b[1;32m    153\u001b[0m ):\n\u001b[1;32m    154\u001b[0m \u001b[38;5;250m    \u001b[39m\u001b[38;5;124;03m\"\"\"\u001b[39;00m\n\u001b[1;32m    155\u001b[0m \u001b[38;5;124;03m    Adds a new leaf node to the heap.\u001b[39;00m\n\u001b[1;32m    156\u001b[0m \u001b[38;5;124;03m    \u001b[39;00m\n\u001b[1;32m    157\u001b[0m \u001b[38;5;124;03m    Args:\u001b[39;00m\n\u001b[1;32m    158\u001b[0m \u001b[38;5;124;03m        node (Node): Leaf node to add to the heap.\u001b[39;00m\n\u001b[1;32m    159\u001b[0m \u001b[38;5;124;03m    \"\"\"\u001b[39;00m\n\u001b[0;32m--> 160\u001b[0m     gain, condition \u001b[38;5;241m=\u001b[39m \u001b[38;5;28;43mself\u001b[39;49m\u001b[38;5;241;43m.\u001b[39;49m\u001b[43msplitter\u001b[49m\u001b[38;5;241;43m.\u001b[39;49m\u001b[43msplit\u001b[49m\u001b[43m(\u001b[49m\u001b[43mindices\u001b[49m\u001b[43m \u001b[49m\u001b[38;5;241;43m=\u001b[39;49m\u001b[43m \u001b[49m\u001b[43mnode\u001b[49m\u001b[38;5;241;43m.\u001b[39;49m\u001b[43mindices\u001b[49m\u001b[43m)\u001b[49m\n\u001b[1;32m    161\u001b[0m     random_tiebreaker \u001b[38;5;241m=\u001b[39m np\u001b[38;5;241m.\u001b[39mrandom\u001b[38;5;241m.\u001b[39mrand()\n\u001b[1;32m    162\u001b[0m     leaf_obj \u001b[38;5;241m=\u001b[39m (\u001b[38;5;241m-\u001b[39m\u001b[38;5;241m1\u001b[39m\u001b[38;5;241m*\u001b[39mgain, random_tiebreaker, node, condition)\n",
      "File \u001b[0;32m~/research/interpretable/intercluster/rules/splitters/_splitter.py:345\u001b[0m, in \u001b[0;36mSimpleObliqueSplitter.split\u001b[0;34m(self, indices)\u001b[0m\n\u001b[1;32m    340\u001b[0m \u001b[38;5;28;01melse\u001b[39;00m:\n\u001b[1;32m    341\u001b[0m     \u001b[38;5;66;03m# non-axis aligned slopes\u001b[39;00m\n\u001b[1;32m    342\u001b[0m     threshold \u001b[38;5;241m=\u001b[39m \u001b[38;5;241m-\u001b[39mslope \u001b[38;5;241m*\u001b[39m data_point[\u001b[38;5;241m0\u001b[39m] \u001b[38;5;241m+\u001b[39m data_point[\u001b[38;5;241m1\u001b[39m]\n\u001b[1;32m    343\u001b[0m     condition \u001b[38;5;241m=\u001b[39m LinearCondition(\n\u001b[1;32m    344\u001b[0m         features \u001b[38;5;241m=\u001b[39m np\u001b[38;5;241m.\u001b[39marray(pair),\n\u001b[0;32m--> 345\u001b[0m         weights \u001b[38;5;241m=\u001b[39m \u001b[43mnp\u001b[49m\u001b[38;5;241;43m.\u001b[39;49m\u001b[43marray\u001b[49m\u001b[43m(\u001b[49m\u001b[43m[\u001b[49m\u001b[38;5;241;43m-\u001b[39;49m\u001b[43mslope\u001b[49m\u001b[43m,\u001b[49m\u001b[43m \u001b[49m\u001b[38;5;241;43m1\u001b[39;49m\u001b[43m]\u001b[49m\u001b[43m)\u001b[49m,\n\u001b[1;32m    346\u001b[0m         threshold \u001b[38;5;241m=\u001b[39m threshold,\n\u001b[1;32m    347\u001b[0m         direction \u001b[38;5;241m=\u001b[39m \u001b[38;5;241m-\u001b[39m\u001b[38;5;241m1\u001b[39m\n\u001b[1;32m    348\u001b[0m     )\n\u001b[1;32m    350\u001b[0m left_indices, right_indices \u001b[38;5;241m=\u001b[39m \u001b[38;5;28mself\u001b[39m\u001b[38;5;241m.\u001b[39mget_split_indices(indices, condition)\n\u001b[1;32m    352\u001b[0m \u001b[38;5;28;01mif\u001b[39;00m (\u001b[38;5;28mlen\u001b[39m(left_indices) \u001b[38;5;241m<\u001b[39m \u001b[38;5;28mself\u001b[39m\u001b[38;5;241m.\u001b[39mmin_points_leaf \u001b[38;5;129;01mor\u001b[39;00m \n\u001b[1;32m    353\u001b[0m     \u001b[38;5;28mlen\u001b[39m(right_indices) \u001b[38;5;241m<\u001b[39m \u001b[38;5;28mself\u001b[39m\u001b[38;5;241m.\u001b[39mmin_points_leaf):\n",
      "\u001b[0;31mKeyboardInterrupt\u001b[0m: "
     ]
    }
   ],
   "source": [
    "# Takes some time to run!\n",
    "oblique_forest = DecisionForest(**oblique_forest_params)\n",
    "oblique_forest.fit(data, kmeans_labels)"
   ]
  },
  {
   "cell_type": "code",
   "execution_count": 21,
   "metadata": {},
   "outputs": [],
   "source": [
    "svm_forest = DecisionForest(**forest_params_svm)\n",
    "svm_forest.fit(data, kmeans_labels)"
   ]
  },
  {
   "cell_type": "code",
   "execution_count": 22,
   "metadata": {},
   "outputs": [],
   "source": [
    "exkmc_forest = DecisionForest(**forest_params_exkmc)\n",
    "exkmc_forest.fit(data, kmeans_labels)"
   ]
  },
  {
   "cell_type": "code",
   "execution_count": 33,
   "metadata": {},
   "outputs": [],
   "source": [
    "voronoi_set = VoronoiSet(**voronoi_params)\n",
    "voronoi_set.fit(data, kmeans_labels)"
   ]
  },
  {
   "cell_type": "markdown",
   "metadata": {},
   "source": [
    "### Pruning"
   ]
  },
  {
   "cell_type": "code",
   "execution_count": 18,
   "metadata": {},
   "outputs": [],
   "source": [
    "model = forest\n",
    "search_range = np.linspace(0,10,101)\n",
    "\n",
    "data_to_rules_assignment = model.get_data_to_rules_assignment(data)\n",
    "prune_objective = KmeansObjective(\n",
    "    X = data,\n",
    "    centers = centers,\n",
    "    average = True,\n",
    "    normalize = True\n",
    ")\n",
    "selected_rules, objective_vals, coverage_vals = prune_with_grid_search(\n",
    "    n_rules = n_rules,\n",
    "    frac_cover = 0, # Just using 0 required coverage for now to be able to see the full picture.\n",
    "    n_clusters = n_clusters,\n",
    "    data_labels = data_labels,\n",
    "    rule_labels = model.decision_set_labels,\n",
    "    data_to_rules_assignment = data_to_rules_assignment,\n",
    "    objective = prune_objective,\n",
    "    lambda_search_range = search_range,\n",
    "    cpu_count = 4,\n",
    "    return_full = True\n",
    ")"
   ]
  },
  {
   "cell_type": "code",
   "execution_count": 19,
   "metadata": {},
   "outputs": [
    {
     "data": {
      "text/plain": [
       "Text(0, 0.5, 'Cost')"
      ]
     },
     "execution_count": 19,
     "metadata": {},
     "output_type": "execute_result"
    },
    {
     "data": {
      "image/png": "[encoded data removed]",
      "text/plain": [
       "<Figure size 640x480 with 1 Axes>"
      ]
     },
     "metadata": {},
     "output_type": "display_data"
    }
   ],
   "source": [
    "plt.plot(search_range, objective_vals, linewidth = 5)\n",
    "plt.xlabel(r\"$\\lambda$\")\n",
    "plt.ylabel(\"Cost\")"
   ]
  },
  {
   "cell_type": "code",
   "execution_count": 20,
   "metadata": {},
   "outputs": [
    {
     "data": {
      "text/plain": [
       "Text(0, 0.5, 'Coverage')"
      ]
     },
     "execution_count": 20,
     "metadata": {},
     "output_type": "execute_result"
    },
    {
     "data": {
      "image/png": "[encoded data removed]",
      "text/plain": [
       "<Figure size 640x480 with 1 Axes>"
      ]
     },
     "metadata": {},
     "output_type": "display_data"
    }
   ],
   "source": [
    "plt.plot(search_range, coverage_vals, linewidth = 5)\n",
    "plt.xlabel(r\"$\\lambda$\")\n",
    "plt.ylabel(\"Coverage\")"
   ]
  },
  {
   "cell_type": "code",
   "execution_count": 26,
   "metadata": {},
   "outputs": [],
   "source": [
    "prune_objective = KmeansObjective(\n",
    "    X = data,\n",
    "    centers = centers,\n",
    "    average = True,\n",
    "    normalize = True\n",
    ")\n",
    "\n",
    "prune_params = {\n",
    "    'n_rules' : n_rules,\n",
    "    'frac_cover' : 0.5,\n",
    "    'n_clusters' : n_clusters,\n",
    "    'X' : data,\n",
    "    'y' : data_labels,\n",
    "    'objective' : prune_objective,\n",
    "    'lambda_search_range' : np.linspace(0,10,101),\n",
    "    'cpu_count' : 1\n",
    "}"
   ]
  },
  {
   "cell_type": "code",
   "execution_count": 27,
   "metadata": {},
   "outputs": [],
   "source": [
    "forest.prune(**prune_params)\n",
    "forest_prune_predictions = forest.pruned_predict(data, rule_labels = False)"
   ]
  },
  {
   "cell_type": "code",
   "execution_count": 28,
   "metadata": {},
   "outputs": [],
   "source": [
    "forest_depth_5.prune(**prune_params)\n",
    "forest_depth_5_prune_predictions = forest_depth_5.pruned_predict(data, rule_labels = False)"
   ]
  },
  {
   "cell_type": "code",
   "execution_count": null,
   "metadata": {},
   "outputs": [],
   "source": [
    "oblique_forest.prune(**prune_params)\n",
    "oblique_forest_prune_predictions = oblique_forest.pruned_predict(data, rule_labels = False)"
   ]
  }
 ],
 "metadata": {
  "kernelspec": {
   "display_name": "intercluster-sHZsOx4e-py3.9",
   "language": "python",
   "name": "python3"
  },
  "language_info": {
   "codemirror_mode": {
    "name": "ipython",
    "version": 3
   },
   "file_extension": ".py",
   "mimetype": "text/x-python",
   "name": "python",
   "nbconvert_exporter": "python",
   "pygments_lexer": "ipython3",
   "version": "3.9.21"
  }
 },
 "nbformat": 4,
 "nbformat_minor": 2
}
