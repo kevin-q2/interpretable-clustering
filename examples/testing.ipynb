{
 "cells": [
  {
   "cell_type": "code",
   "execution_count": 1,
   "id": "a24cdb9a",
   "metadata": {},
   "outputs": [],
   "source": [
    "import numpy as np\n",
    "from intercluster.rules import *\n",
    "%load_ext autoreload\n",
    "%autoreload 2"
   ]
  },
  {
   "cell_type": "code",
   "execution_count": 2,
   "id": "f7756a7d",
   "metadata": {},
   "outputs": [],
   "source": [
    "T = RandomTree(\n",
    "    base_tree = None,\n",
    "    max_leaf_nodes = 5\n",
    ")"
   ]
  },
  {
   "cell_type": "code",
   "execution_count": 3,
   "id": "62e12099",
   "metadata": {},
   "outputs": [],
   "source": [
    "X = np.random.uniform(size = (25, 3))"
   ]
  },
  {
   "cell_type": "code",
   "execution_count": 4,
   "id": "9b6812b7",
   "metadata": {},
   "outputs": [
    {
     "ename": "ValueError",
     "evalue": "shapes (25,) and (1,) not aligned: 25 (dim 0) != 1 (dim 0)",
     "output_type": "error",
     "traceback": [
      "\u001b[0;31m---------------------------------------------------------------------------\u001b[0m",
      "\u001b[0;31mValueError\u001b[0m                                Traceback (most recent call last)",
      "Cell \u001b[0;32mIn[4], line 1\u001b[0m\n\u001b[0;32m----> 1\u001b[0m \u001b[43mT\u001b[49m\u001b[38;5;241;43m.\u001b[39;49m\u001b[43mfit\u001b[49m\u001b[43m(\u001b[49m\u001b[43mX\u001b[49m\u001b[43m)\u001b[49m\n",
      "File \u001b[0;32m/project/mcnet/kevin/explainable_clustering/repo/intercluster/rules/_tree.py:130\u001b[0m, in \u001b[0;36mTree.fit\u001b[0;34m(self, X, y)\u001b[0m\n\u001b[1;32m    126\u001b[0m         \u001b[38;5;28mself\u001b[39m\u001b[38;5;241m.\u001b[39mleaf_count \u001b[38;5;241m+\u001b[39m\u001b[38;5;241m=\u001b[39m \u001b[38;5;241m1\u001b[39m       \n\u001b[1;32m    129\u001b[0m \u001b[38;5;28;01mwhile\u001b[39;00m \u001b[38;5;28mlen\u001b[39m(\u001b[38;5;28mself\u001b[39m\u001b[38;5;241m.\u001b[39mheap) \u001b[38;5;241m>\u001b[39m \u001b[38;5;241m0\u001b[39m:\n\u001b[0;32m--> 130\u001b[0m     \u001b[38;5;28;43mself\u001b[39;49m\u001b[38;5;241;43m.\u001b[39;49m\u001b[43mexpand\u001b[49m\u001b[43m(\u001b[49m\u001b[43mX\u001b[49m\u001b[43m,\u001b[49m\u001b[43m \u001b[49m\u001b[43my\u001b[49m\u001b[43m)\u001b[49m\n",
      "File \u001b[0;32m/project/mcnet/kevin/explainable_clustering/repo/intercluster/rules/_tree.py:172\u001b[0m, in \u001b[0;36mTree.expand\u001b[0;34m(self, X, y)\u001b[0m\n\u001b[1;32m    169\u001b[0m features, weights, threshold \u001b[38;5;241m=\u001b[39m split_obj\n\u001b[1;32m    171\u001b[0m \u001b[38;5;66;03m# Find new split\u001b[39;00m\n\u001b[0;32m--> 172\u001b[0m left_mask \u001b[38;5;241m=\u001b[39m \u001b[43mnp\u001b[49m\u001b[38;5;241;43m.\u001b[39;49m\u001b[43mdot\u001b[49m\u001b[43m(\u001b[49m\u001b[43mX_\u001b[49m\u001b[43m[\u001b[49m\u001b[43m:\u001b[49m\u001b[43m,\u001b[49m\u001b[43m \u001b[49m\u001b[43mfeatures\u001b[49m\u001b[43m]\u001b[49m\u001b[43m,\u001b[49m\u001b[43m \u001b[49m\u001b[43mweights\u001b[49m\u001b[43m)\u001b[49m \u001b[38;5;241m<\u001b[39m\u001b[38;5;241m=\u001b[39m threshold\n\u001b[1;32m    173\u001b[0m right_mask \u001b[38;5;241m=\u001b[39m \u001b[38;5;241m~\u001b[39mleft_mask\n\u001b[1;32m    174\u001b[0m left_indices \u001b[38;5;241m=\u001b[39m indices_[left_mask]\n",
      "\u001b[0;31mValueError\u001b[0m: shapes (25,) and (1,) not aligned: 25 (dim 0) != 1 (dim 0)"
     ]
    }
   ],
   "source": [
    "T.fit(X)"
   ]
  },
  {
   "cell_type": "code",
   "execution_count": null,
   "id": "737b41bf",
   "metadata": {},
   "outputs": [],
   "source": []
  }
 ],
 "metadata": {
  "kernelspec": {
   "display_name": "explainable",
   "language": "python",
   "name": "venv"
  },
  "language_info": {
   "codemirror_mode": {
    "name": "ipython",
    "version": 3
   },
   "file_extension": ".py",
   "mimetype": "text/x-python",
   "name": "python",
   "nbconvert_exporter": "python",
   "pygments_lexer": "ipython3",
   "version": "3.9.9"
  }
 },
 "nbformat": 4,
 "nbformat_minor": 5
}
