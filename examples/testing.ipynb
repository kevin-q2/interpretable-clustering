{
 "cells": [
  {
   "cell_type": "code",
   "execution_count": 2,
   "id": "a24cdb9a",
   "metadata": {},
   "outputs": [
    {
     "name": "stdout",
     "output_type": "stream",
     "text": [
      "The autoreload extension is already loaded. To reload it, use:\n",
      "  %reload_ext autoreload\n"
     ]
    }
   ],
   "source": [
    "import numpy as np\n",
    "import time\n",
    "from intercluster.utils import *\n",
    "%load_ext autoreload\n",
    "%autoreload 2"
   ]
  },
  {
   "cell_type": "code",
   "execution_count": 12,
   "id": "737b41bf",
   "metadata": {},
   "outputs": [],
   "source": [
    "n = 1000\n",
    "k = 10\n",
    "d = 15\n",
    "\n",
    "X = np.random.uniform(size = (n,d))\n",
    "centers = np.random.uniform(size = (k,d))\n",
    "assignment1 = np.zeros((n, k))\n",
    "assignment1[:,1] = 1\n",
    "assignment2 = np.ones((n,k))"
   ]
  },
  {
   "cell_type": "code",
   "execution_count": 13,
   "id": "b30c4367-5322-425b-b648-ce3f1808d05e",
   "metadata": {},
   "outputs": [
    {
     "data": {
      "text/plain": [
       "(1000, 10)"
      ]
     },
     "execution_count": 13,
     "metadata": {},
     "output_type": "execute_result"
    }
   ],
   "source": [
    "assignment1.shape"
   ]
  },
  {
   "cell_type": "code",
   "execution_count": 36,
   "id": "cc4e7113-da4b-458c-a95f-7c765650ed77",
   "metadata": {},
   "outputs": [
    {
     "name": "stdout",
     "output_type": "stream",
     "text": [
      "0.04607677459716797\n"
     ]
    }
   ],
   "source": [
    "start = time.time()\n",
    "kmeans_cost(X, centers, assignment1)\n",
    "end = time.time()\n",
    "print(end - start)"
   ]
  },
  {
   "cell_type": "code",
   "execution_count": 37,
   "id": "a2ff0dd1-fb54-4e52-9c3e-b8964d1866ca",
   "metadata": {},
   "outputs": [
    {
     "name": "stdout",
     "output_type": "stream",
     "text": [
      "0.07129764556884766\n"
     ]
    }
   ],
   "source": [
    "start = time.time()\n",
    "kmeans_cost(X, centers, assignment2)\n",
    "end = time.time()\n",
    "print(end - start)"
   ]
  },
  {
   "cell_type": "code",
   "execution_count": 22,
   "id": "23476f77-fc93-49a6-8c76-bc30a86cb184",
   "metadata": {},
   "outputs": [
    {
     "data": {
      "text/plain": [
       "array([[0.5       , 0.66666667],\n",
       "       [1.        , 1.        ]])"
      ]
     },
     "execution_count": 22,
     "metadata": {},
     "output_type": "execute_result"
    }
   ],
   "source": [
    "y = np.array([\n",
    "    [1,2],\n",
    "    [2,3]\n",
    "])\n",
    "y / np.array([2,3])"
   ]
  },
  {
   "cell_type": "code",
   "execution_count": 23,
   "id": "d7e3b30a-8957-47ad-ad31-bbb1eba1f105",
   "metadata": {},
   "outputs": [],
   "source": [
    "def kmeans_cost2(\n",
    "    X : NDArray,\n",
    "    centers : NDArray,\n",
    "    assignment : NDArray,\n",
    "    average : bool = False,\n",
    "    normalize : bool = False\n",
    ") -> float:\n",
    "    \"\"\"\n",
    "    Computes the squared L2 norm cost of a clustering with an associated set of centers.\n",
    "\n",
    "    Args:\n",
    "        X (np.ndarray): (n x d) Dataset\n",
    "        \n",
    "        centers (np.ndarray): (k x d) Set of representative centers for each of the k clusters.\n",
    "        \n",
    "        assignment (np.ndarray: bool): n x k boolean (or binary) matrix with entry (i,j) \n",
    "            being True (1) if point i belongs to cluster j and False (0) otherwise. \n",
    "        \n",
    "        average (bool, optional): Whether to average the per-point cost by the number of clusters\n",
    "            that the point is assigned to. Defaults to False.\n",
    "        \n",
    "        normalize (bool, optional): Whether to normalize the cost by the number of points\n",
    "            covered in the clustering. Defaults to False.\n",
    "\n",
    "    Returns:\n",
    "        cost (float): Total cost of the clustering.\n",
    "    \"\"\"\n",
    "        \n",
    "    n,d= X.shape\n",
    "    center_dist_arr = center_dists(X, centers, norm = 2, square = True)\n",
    "    center_dist_arr = center_dist_arr * assignment\n",
    "    center_dist_sum = np.sum(center_dist_arr, axis = 1)\n",
    "    n_assigns = np.sum(assignment, axis = 1)\n",
    "\n",
    "    if average:\n",
    "        cost = np.sum(center_dist_sum / n_assigns)\n",
    "    else:\n",
    "        cost = np.sum(center_dist_sum)\n",
    "            \n",
    "    if normalize:\n",
    "        covered = coverage(assignment) * n\n",
    "        cost /= covered\n",
    "        \n",
    "    return cost"
   ]
  },
  {
   "cell_type": "code",
   "execution_count": null,
   "id": "5efe0818-858c-4613-99a4-14a958c4a5e3",
   "metadata": {},
   "outputs": [],
   "source": []
  },
  {
   "cell_type": "code",
   "execution_count": 32,
   "id": "a879d412-b59d-4916-8448-146d1d9ee431",
   "metadata": {},
   "outputs": [
    {
     "name": "stdout",
     "output_type": "stream",
     "text": [
      "0.0012793540954589844\n"
     ]
    }
   ],
   "source": [
    "start = time.time()\n",
    "kmeans_cost2(X, centers, assignment1)\n",
    "end = time.time()\n",
    "print(end - start)"
   ]
  },
  {
   "cell_type": "code",
   "execution_count": 33,
   "id": "3aea23a3-8242-4b1e-ad4a-7c713b0be537",
   "metadata": {},
   "outputs": [
    {
     "name": "stdout",
     "output_type": "stream",
     "text": [
      "0.0016965866088867188\n"
     ]
    }
   ],
   "source": [
    "start = time.time()\n",
    "kmeans_cost2(X, centers, assignment2)\n",
    "end = time.time()\n",
    "print(end - start)"
   ]
  },
  {
   "cell_type": "code",
   "execution_count": 38,
   "id": "17c074ef-bd15-4572-86b9-73423d2514d1",
   "metadata": {},
   "outputs": [],
   "source": [
    "a = np.array([-1, 0, 1, 2, 3], dtype=float)\n",
    "b = np.array([ 0, 0, 0, 2, 2], dtype=float)\n",
    "\n",
    "# If you don't pass `out` the indices where (b == 0) will be uninitialized!\n",
    "c = np.divide(a, b, out=np.zeros_like(a), where=b!=0)"
   ]
  },
  {
   "cell_type": "code",
   "execution_count": 39,
   "id": "8fdc4e51-ee87-4709-b445-f86a8e110756",
   "metadata": {},
   "outputs": [
    {
     "data": {
      "text/plain": [
       "array([0. , 0. , 0. , 1. , 1.5])"
      ]
     },
     "execution_count": 39,
     "metadata": {},
     "output_type": "execute_result"
    }
   ],
   "source": [
    "c"
   ]
  },
  {
   "cell_type": "code",
   "execution_count": 41,
   "id": "a5d04d73-d3f5-47c5-8a17-d656148d3731",
   "metadata": {},
   "outputs": [
    {
     "data": {
      "text/plain": [
       "True"
      ]
     },
     "execution_count": 41,
     "metadata": {},
     "output_type": "execute_result"
    }
   ],
   "source": [
    "np.array_equal(np.array([]), np.array([]))"
   ]
  },
  {
   "cell_type": "code",
   "execution_count": 46,
   "id": "c4303d1d-8707-4da5-b2cd-09afb8d2ba7d",
   "metadata": {},
   "outputs": [
    {
     "data": {
      "text/plain": [
       "{1, 2, 3, 4}"
      ]
     },
     "execution_count": 46,
     "metadata": {},
     "output_type": "execute_result"
    }
   ],
   "source": [
    "x = {1,2,3}\n",
    "x.union({4})"
   ]
  },
  {
   "cell_type": "code",
   "execution_count": 49,
   "id": "b980112c-297e-468c-a8b7-dcd4a0d0c738",
   "metadata": {},
   "outputs": [
    {
     "data": {
      "text/plain": [
       "{1, 3}"
      ]
     },
     "execution_count": 49,
     "metadata": {},
     "output_type": "execute_result"
    }
   ],
   "source": [
    "{_ for _ in x if _ != 2}"
   ]
  },
  {
   "cell_type": "code",
   "execution_count": null,
   "id": "5bee4a85-6383-439e-88b2-bd8e3e7f8ed9",
   "metadata": {},
   "outputs": [],
   "source": []
  }
 ],
 "metadata": {
  "kernelspec": {
   "display_name": "Python 3 (ipykernel)",
   "language": "python",
   "name": "python3"
  },
  "language_info": {
   "codemirror_mode": {
    "name": "ipython",
    "version": 3
   },
   "file_extension": ".py",
   "mimetype": "text/x-python",
   "name": "python",
   "nbconvert_exporter": "python",
   "pygments_lexer": "ipython3",
   "version": "3.9.20"
  }
 },
 "nbformat": 4,
 "nbformat_minor": 5
}
