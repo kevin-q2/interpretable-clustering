{
 "cells": [
  {
   "cell_type": "code",
   "execution_count": 1,
   "metadata": {},
   "outputs": [],
   "source": [
    "import os\n",
    "import numpy as np\n",
    "import pandas as pd\n",
    "from ExKMC.Tree import Tree as ExTree\n",
    "from sklearn.cluster import KMeans\n",
    "from sklearn.preprocessing import MinMaxScaler, StandardScaler\n",
    "import matplotlib.pyplot as plt\n",
    "import seaborn as sns\n",
    "from intercluster import *\n",
    "from intercluster.rules import *\n",
    "from intercluster.pruning import *\n",
    "from intercluster.experiments import *\n",
    "\n",
    "from sklearn.metrics import adjusted_rand_score, accuracy_score\n",
    "\n",
    "# Helps with KMeans memory leak issues.\n",
    "os.environ[\"OMP_NUM_THREADS\"] = \"1\"\n",
    "\n",
    "%load_ext autoreload\n",
    "%autoreload 2"
   ]
  },
  {
   "cell_type": "markdown",
   "metadata": {},
   "source": [
    "### Load Data"
   ]
  },
  {
   "cell_type": "code",
   "execution_count": 56,
   "metadata": {},
   "outputs": [],
   "source": [
    "# Read and process data:\n",
    "data, data_label_array, feature_labels, scaler = load_preprocessed_fashion()\n",
    "\n",
    "import math\n",
    "size = math.ceil(0.25 * len(data))\n",
    "random_samples = np.sort(np.random.choice(len(data), size = size, replace = False))\n",
    "data = data[random_samples, :]\n",
    "data_label_array = data_label_array[random_samples]\n",
    "data_labels = labels_format(data_label_array)\n",
    "\n",
    "\n",
    "# Parameters:\n",
    "n = data.shape[0]\n",
    "d = data.shape[1]\n",
    "k = 10"
   ]
  },
  {
   "cell_type": "code",
   "execution_count": 13,
   "metadata": {},
   "outputs": [
    {
     "data": {
      "text/plain": [
       "1.0"
      ]
     },
     "execution_count": 13,
     "metadata": {},
     "output_type": "execute_result"
    }
   ],
   "source": [
    "np.max(data)"
   ]
  },
  {
   "cell_type": "markdown",
   "metadata": {},
   "source": [
    "### KMeans"
   ]
  },
  {
   "cell_type": "code",
   "execution_count": 57,
   "metadata": {},
   "outputs": [
    {
     "data": {
      "text/plain": [
       "31.820646048085024"
      ]
     },
     "execution_count": 57,
     "metadata": {},
     "output_type": "execute_result"
    }
   ],
   "source": [
    "np.random.seed(342)\n",
    "kmeans = KMeans(n_clusters=k, n_init=\"auto\", random_state = None).fit(data)\n",
    "kmeans_labels = labels_format(kmeans.labels_)\n",
    "kmeans_assignment = labels_to_assignment(kmeans_labels, n_labels = k)\n",
    "kmeans_cost(data, kmeans.cluster_centers_, kmeans_assignment, average = True, normalize = True)"
   ]
  },
  {
   "cell_type": "code",
   "execution_count": 15,
   "metadata": {},
   "outputs": [
    {
     "data": {
      "text/plain": [
       "0.3943399567788169"
      ]
     },
     "execution_count": 15,
     "metadata": {},
     "output_type": "execute_result"
    }
   ],
   "source": [
    "adjusted_rand_score(data_label_array, flatten_labels(kmeans_labels))"
   ]
  },
  {
   "cell_type": "markdown",
   "metadata": {},
   "source": [
    "### IMM"
   ]
  },
  {
   "cell_type": "code",
   "execution_count": 16,
   "metadata": {},
   "outputs": [
    {
     "data": {
      "text/plain": [
       "40.27814335346185"
      ]
     },
     "execution_count": 16,
     "metadata": {},
     "output_type": "execute_result"
    }
   ],
   "source": [
    "exkmc_tree = ExkmcTree(\n",
    "    k = k,\n",
    "    kmeans = kmeans,\n",
    "    max_leaf_nodes = k,\n",
    "    imm = True\n",
    ")\n",
    "exkmc_tree.fit(data)\n",
    "exkmc_labels = exkmc_tree.predict(data, leaf_labels = False)\n",
    "exkmc_assignment = labels_to_assignment(exkmc_labels, n_labels = k)\n",
    "exkmc_centers = update_centers(data, kmeans.cluster_centers_, exkmc_assignment)\n",
    "imm_depth = exkmc_tree.depth\n",
    "kmeans_cost(data, exkmc_centers, exkmc_assignment, average = True, normalize = True)"
   ]
  },
  {
   "cell_type": "markdown",
   "metadata": {},
   "source": [
    "### SVM"
   ]
  },
  {
   "cell_type": "code",
   "execution_count": 41,
   "metadata": {},
   "outputs": [],
   "source": [
    "from sklearn.svm import LinearSVC\n",
    "from sklearn.feature_selection import RFE\n",
    "\n",
    "cselect = 5\n",
    "y = (kmeans.labels_ == cselect).astype(int)\n",
    "svm = LinearSVC(C = 100)\n",
    "#svm.fit(data, y)\n",
    "#svm_labels = svm.predict(data)\n",
    "\n",
    "selector = RFE(svm, n_features_to_select=2, step=100)\n",
    "selector = selector.fit(data, y)\n",
    "selected_features = selector.support_\n",
    "\n",
    "X_select = data[:, selected_features]\n",
    "svm.fit(X_select, y)\n",
    "svm_labels = svm.predict(X_select)"
   ]
  },
  {
   "cell_type": "code",
   "execution_count": 42,
   "metadata": {},
   "outputs": [
    {
     "data": {
      "text/plain": [
       "0.8747428571428572"
      ]
     },
     "execution_count": 42,
     "metadata": {},
     "output_type": "execute_result"
    }
   ],
   "source": [
    "accuracy_score(y, svm_labels)"
   ]
  },
  {
   "cell_type": "markdown",
   "metadata": {},
   "source": [
    "### Decision Forest"
   ]
  },
  {
   "cell_type": "code",
   "execution_count": 22,
   "metadata": {},
   "outputs": [],
   "source": [
    "np.random.seed(342)"
   ]
  },
  {
   "cell_type": "code",
   "execution_count": 59,
   "metadata": {},
   "outputs": [],
   "source": [
    "# Module Parameters:\n",
    "n_clusters = k\n",
    "n_rules = k\n",
    "frac_cover = 0.9\n",
    "n_trees = 100\n",
    "n_sets = 50\n",
    "data_labels = kmeans_labels\n",
    "centers = kmeans.cluster_centers_\n",
    "\n",
    "\n",
    "# Depth 2 Forest:\n",
    "forest_tree_params_depth_2 = {\n",
    "    'max_depth' : 2\n",
    "}\n",
    "\n",
    "forest_params_depth_2 = {\n",
    "    'tree_model' : SklearnTree,\n",
    "    'tree_params' : forest_tree_params_depth_2,\n",
    "    'num_trees' : n_trees,\n",
    "    'max_features' : d,\n",
    "    'max_labels' : 1,\n",
    "    'max_depths' : [2],\n",
    "    'feature_pairings' : [list(range(d))],\n",
    "    'train_size' : 0.75\n",
    "}\n",
    "\n",
    "# Depth IMM Forest:\n",
    "forest_tree_params_depth_imm = {\n",
    "    'max_depth' : imm_depth\n",
    "}\n",
    "\n",
    "forest_params_depth_imm = {\n",
    "    'tree_model' : SklearnTree,\n",
    "    'tree_params' : forest_tree_params_depth_imm,\n",
    "    'num_trees' : n_trees,\n",
    "    'max_features' : d,\n",
    "    'max_labels' : 1,\n",
    "    'max_depths' : list(range(1, imm_depth + 1)),\n",
    "    'feature_pairings' : [list(range(d))],\n",
    "    'train_size' : 0.75\n",
    "}\n",
    "\n",
    "# SVM set:\n",
    "svm_params = {\n",
    "    'num_rules' : n_sets,\n",
    "    'num_features' : 2,\n",
    "    'feature_pairings' : [list(range(d))],\n",
    "    'train_size' : 0.75,\n",
    "    'svc_params' : {'C' : 10},\n",
    "    'step_size' : 100\n",
    "}"
   ]
  },
  {
   "cell_type": "code",
   "execution_count": 24,
   "metadata": {},
   "outputs": [],
   "source": [
    "forest = DecisionForest(**forest_params_depth_2)\n",
    "forest.fit(data, kmeans_labels)"
   ]
  },
  {
   "cell_type": "code",
   "execution_count": 25,
   "metadata": {},
   "outputs": [],
   "source": [
    "forest_depth_imm = DecisionForest(**forest_params_depth_imm)\n",
    "forest_depth_imm.fit(data, kmeans_labels)"
   ]
  },
  {
   "cell_type": "code",
   "execution_count": 60,
   "metadata": {},
   "outputs": [],
   "source": [
    "svm_set = SVMSet(**svm_params)\n",
    "svm_set.fit(data, kmeans_labels)"
   ]
  },
  {
   "cell_type": "code",
   "execution_count": 61,
   "metadata": {},
   "outputs": [
    {
     "data": {
      "text/plain": [
       "17500"
      ]
     },
     "execution_count": 61,
     "metadata": {},
     "output_type": "execute_result"
    }
   ],
   "source": [
    "len(data_labels)"
   ]
  },
  {
   "cell_type": "code",
   "execution_count": 55,
   "metadata": {},
   "outputs": [
    {
     "data": {
      "text/plain": [
       "70.0"
      ]
     },
     "execution_count": 55,
     "metadata": {},
     "output_type": "execute_result"
    }
   ],
   "source": [
    "17.5*4"
   ]
  },
  {
   "cell_type": "markdown",
   "metadata": {},
   "source": [
    "### Pruning"
   ]
  },
  {
   "cell_type": "code",
   "execution_count": 62,
   "metadata": {},
   "outputs": [],
   "source": [
    "model = svm_set\n",
    "search_range = np.linspace(0,2,101)\n",
    "\n",
    "data_to_rules_assignment = model.get_data_to_rules_assignment(data)\n",
    "prune_objective = KmeansObjective(\n",
    "    X = data,\n",
    "    centers = centers,\n",
    "    average = True,\n",
    "    normalize = True\n",
    ")\n",
    "selected_rules, objective_vals, coverage_vals = prune_with_grid_search(\n",
    "    n_rules = n_rules,\n",
    "    frac_cover = 0, # Just using 0 required coverage for now to be able to see the full picture.\n",
    "    n_clusters = n_clusters,\n",
    "    data_labels = data_labels,\n",
    "    rule_labels = model.decision_set_labels,\n",
    "    data_to_rules_assignment = data_to_rules_assignment,\n",
    "    objective = prune_objective,\n",
    "    lambda_search_range = search_range,\n",
    "    cpu_count = 4,\n",
    "    return_full = True\n",
    ")"
   ]
  },
  {
   "cell_type": "code",
   "execution_count": 63,
   "metadata": {},
   "outputs": [
    {
     "data": {
      "text/plain": [
       "Text(0, 0.5, 'Cost')"
      ]
     },
     "execution_count": 63,
     "metadata": {},
     "output_type": "execute_result"
    },
    {
     "data": {
      "image/png": "[encoded data removed]",
      "text/plain": [
       "<Figure size 640x480 with 1 Axes>"
      ]
     },
     "metadata": {},
     "output_type": "display_data"
    }
   ],
   "source": [
    "plt.plot(search_range, objective_vals, linewidth = 5)\n",
    "plt.xlabel(r\"$\\lambda$\")\n",
    "plt.ylabel(\"Cost\")"
   ]
  },
  {
   "cell_type": "code",
   "execution_count": 64,
   "metadata": {},
   "outputs": [
    {
     "data": {
      "text/plain": [
       "Text(0, 0.5, 'Coverage')"
      ]
     },
     "execution_count": 64,
     "metadata": {},
     "output_type": "execute_result"
    },
    {
     "data": {
      "image/png": "[encoded data removed]",
      "text/plain": [
       "<Figure size 640x480 with 1 Axes>"
      ]
     },
     "metadata": {},
     "output_type": "display_data"
    }
   ],
   "source": [
    "plt.plot(search_range, coverage_vals, linewidth = 5)\n",
    "plt.xlabel(r\"$\\lambda$\")\n",
    "plt.ylabel(\"Coverage\")"
   ]
  },
  {
   "cell_type": "code",
   "execution_count": 30,
   "metadata": {},
   "outputs": [],
   "source": [
    "prune_objective = KmeansObjective(\n",
    "    X = data,\n",
    "    centers = centers,\n",
    "    average = True,\n",
    "    normalize = True\n",
    ")\n",
    "\n",
    "prune_params = {\n",
    "    'n_rules' : n_rules,\n",
    "    'frac_cover' : 0.75,\n",
    "    'n_clusters' : n_clusters,\n",
    "    'X' : data,\n",
    "    'y' : data_labels,\n",
    "    'objective' : prune_objective,\n",
    "    'lambda_search_range' : np.linspace(0,10,101),\n",
    "    'full_search' : False,\n",
    "    'cpu_count' : 1\n",
    "}"
   ]
  },
  {
   "cell_type": "code",
   "execution_count": 31,
   "metadata": {},
   "outputs": [],
   "source": [
    "forest.prune(**prune_params)\n",
    "forest_prune_predictions = forest.pruned_predict(data, rule_labels = False)"
   ]
  },
  {
   "cell_type": "code",
   "execution_count": 32,
   "metadata": {},
   "outputs": [],
   "source": [
    "forest_depth_imm.prune(**prune_params)\n",
    "forest_depth_imm_prune_predictions = forest_depth_imm.pruned_predict(data, rule_labels = False)"
   ]
  },
  {
   "cell_type": "code",
   "execution_count": 33,
   "metadata": {},
   "outputs": [
    {
     "ename": "ValueError",
     "evalue": "Decision set has not been pruned. If prune() was called, this is likely because coverage requirements were not met.",
     "output_type": "error",
     "traceback": [
      "\u001b[0;31m---------------------------------------------------------------------------\u001b[0m",
      "\u001b[0;31mValueError\u001b[0m                                Traceback (most recent call last)",
      "Cell \u001b[0;32mIn[33], line 2\u001b[0m\n\u001b[1;32m      1\u001b[0m svm_set\u001b[38;5;241m.\u001b[39mprune(\u001b[38;5;241m*\u001b[39m\u001b[38;5;241m*\u001b[39mprune_params)\n\u001b[0;32m----> 2\u001b[0m svm_set_prune_predictions \u001b[38;5;241m=\u001b[39m \u001b[43msvm_set\u001b[49m\u001b[38;5;241;43m.\u001b[39;49m\u001b[43mpruned_predict\u001b[49m\u001b[43m(\u001b[49m\u001b[43mdata\u001b[49m\u001b[43m,\u001b[49m\u001b[43m \u001b[49m\u001b[43mrule_labels\u001b[49m\u001b[43m \u001b[49m\u001b[38;5;241;43m=\u001b[39;49m\u001b[43m \u001b[49m\u001b[38;5;28;43;01mFalse\u001b[39;49;00m\u001b[43m)\u001b[49m\n",
      "File \u001b[0;32m~/Research/intercluster/intercluster/rules/_decision_set.py:210\u001b[0m, in \u001b[0;36mDecisionSet.pruned_predict\u001b[0;34m(self, X, rule_labels)\u001b[0m\n\u001b[1;32m    194\u001b[0m \u001b[38;5;250m\u001b[39m\u001b[38;5;124;03m\"\"\"\u001b[39;00m\n\u001b[1;32m    195\u001b[0m \u001b[38;5;124;03mPredicts the label(s) of each data point in X.\u001b[39;00m\n\u001b[1;32m    196\u001b[0m \u001b[38;5;124;03m\u001b[39;00m\n\u001b[0;32m   (...)\u001b[0m\n\u001b[1;32m    207\u001b[0m \u001b[38;5;124;03m        at index i representing the group of decision rules which satisfy X[i,:].\u001b[39;00m\n\u001b[1;32m    208\u001b[0m \u001b[38;5;124;03m\"\"\"\u001b[39;00m\n\u001b[1;32m    209\u001b[0m \u001b[38;5;28;01mif\u001b[39;00m \u001b[38;5;129;01mnot\u001b[39;00m \u001b[38;5;28mself\u001b[39m\u001b[38;5;241m.\u001b[39mprune_status:\n\u001b[0;32m--> 210\u001b[0m     \u001b[38;5;28;01mraise\u001b[39;00m \u001b[38;5;167;01mValueError\u001b[39;00m(\u001b[38;5;124m'\u001b[39m\u001b[38;5;124mDecision set has not been pruned. If prune() was called, this is \u001b[39m\u001b[38;5;124m'\u001b[39m\n\u001b[1;32m    211\u001b[0m                      \u001b[38;5;124m'\u001b[39m\u001b[38;5;124mlikely because coverage requirements were not met.\u001b[39m\u001b[38;5;124m'\u001b[39m)\n\u001b[1;32m    213\u001b[0m data_to_rules_assignment \u001b[38;5;241m=\u001b[39m \u001b[38;5;28mself\u001b[39m\u001b[38;5;241m.\u001b[39mget_data_to_rules_assignment(X)\n\u001b[1;32m    214\u001b[0m pruned_data_to_rules_assignment \u001b[38;5;241m=\u001b[39m data_to_rules_assignment[:,\u001b[38;5;28mself\u001b[39m\u001b[38;5;241m.\u001b[39mpruned_indices]\n",
      "\u001b[0;31mValueError\u001b[0m: Decision set has not been pruned. If prune() was called, this is likely because coverage requirements were not met."
     ]
    }
   ],
   "source": [
    "svm_set.prune(**prune_params)\n",
    "svm_set_prune_predictions = svm_set.pruned_predict(data, rule_labels = False)"
   ]
  }
 ],
 "metadata": {
  "kernelspec": {
   "display_name": "intercluster-Q11lOcoy-py3.9",
   "language": "python",
   "name": "python3"
  },
  "language_info": {
   "codemirror_mode": {
    "name": "ipython",
    "version": 3
   },
   "file_extension": ".py",
   "mimetype": "text/x-python",
   "name": "python",
   "nbconvert_exporter": "python",
   "pygments_lexer": "ipython3",
   "version": "3.9.20"
  }
 },
 "nbformat": 4,
 "nbformat_minor": 2
}
